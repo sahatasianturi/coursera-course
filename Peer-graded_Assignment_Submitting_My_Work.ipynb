{
 "cells": [
  {
   "cell_type": "markdown",
   "id": "adcf0bce",
   "metadata": {},
   "source": [
    "Exercise 2 - Create a markdown cell with the title of the notebook."
   ]
  },
  {
   "cell_type": "markdown",
   "id": "1b990717",
   "metadata": {},
   "source": [
    "Name : Peer-graded_Assignment_Submitting_My_Work"
   ]
  },
  {
   "cell_type": "markdown",
   "id": "5d68799c",
   "metadata": {},
   "source": [
    "Exercise 3 - Create a markdown cell for an introduction. (1 pt)"
   ]
  },
  {
   "cell_type": "markdown",
   "id": "7c88e318",
   "metadata": {},
   "source": [
    "Introduction"
   ]
  },
  {
   "cell_type": "markdown",
   "id": "79861f90",
   "metadata": {},
   "source": [
    "Exercise 4 - Create a markdown cell to list data science languages. (3 pts)"
   ]
  },
  {
   "cell_type": "markdown",
   "id": "afc441f5",
   "metadata": {},
   "source": [
    "These are some of the popular languages that Data Scientists use are:\n",
    "\n",
    "\n",
    "* Python.\n",
    "* R.\n",
    "* SQL.\n",
    "* Java.\n",
    "* Julia.\n",
    "* Scala.\n",
    "* C/C++.\n",
    "* JavaScript.\n"
   ]
  },
  {
   "cell_type": "markdown",
   "id": "ef6b5960",
   "metadata": {},
   "source": [
    "Exercise 5 - Create a markdown cell to list data science libraries. (3 pts)"
   ]
  },
  {
   "cell_type": "markdown",
   "id": "9b2f89b2",
   "metadata": {},
   "source": [
    "Some of the commonly used libraries used by Data Scientists include:\n",
    "\n",
    "* TensorFlow.\n",
    "* NumPy.\n",
    "* SciPy.\n",
    "* Pandas.\n",
    "* Matplotlib.\n",
    "* Keras.\n",
    "* SciKit-Learn.\n",
    "* PyTorch.\n",
    "* Scrapy.\n",
    "* Theano.\n",
    "* NuPIC.\n",
    "* Ramp.\n",
    "* Pipenv.\n",
    "* Bob.\n",
    "* PyBrain.\n",
    "* Caffe2.\n",
    "* Chainer.\n",
    "* BeautifulSoup.\n",
    "* LightGBM.\n",
    "* ELI5.\n"
   ]
  },
  {
   "cell_type": "markdown",
   "id": "57509349",
   "metadata": {},
   "source": [
    "Exercise 6 - Create a markdown cell with a table of Data Science tools. (3 pts)"
   ]
  },
  {
   "cell_type": "markdown",
   "id": "4cee578f",
   "metadata": {},
   "source": [
    "Data science involves the use of various tools to collect, process, analyze, and visualize data in order to extract insights and make informed decisions. Here are some commonly used data science tools:\n",
    "\n",
    "1. **Programming Languages:**\n",
    "   - **Python:** A versatile and widely-used programming language with a rich ecosystem of libraries for data manipulation, analysis, and visualization, such as Pandas, NumPy, SciPy, Matplotlib, and Seaborn.\n",
    "   - **R:** A language and environment specifically designed for statistical computing and graphics. R has a vast collection of packages for data analysis and visualization, including dplyr, ggplot2, and tidyr.\n",
    "\n",
    "2. **Integrated Development Environments (IDEs):**\n",
    "   - **Jupyter Notebook/JupyterLab:** An interactive environment that allows you to write and execute code, display visualizations, and document your analysis in a single document.\n",
    "   - **RStudio:** An integrated development environment designed for R programming, offering features tailored to data analysis and visualization.\n",
    "\n",
    "3. **Data Manipulation and Analysis Libraries:**\n",
    "   - **Pandas:** A Python library for data manipulation and analysis, providing data structures and functions needed to clean, transform, and explore data.\n",
    "   - **dplyr and tidyr:** R packages for efficient data manipulation and tidying data for analysis.\n",
    "\n",
    "4. **Data Visualization Libraries:**\n",
    "   - **Matplotlib:** A versatile Python plotting library for creating static, interactive, and animated visualizations.\n",
    "   - **Seaborn:** Built on top of Matplotlib, Seaborn provides a high-level interface for creating attractive statistical graphics.\n",
    "   - **ggplot2:** An R package for creating elegant and customizable visualizations based on the Grammar of Graphics.\n",
    "\n",
    "5. **Machine Learning Libraries:**\n",
    "   - **scikit-learn:** A comprehensive machine learning library for Python, offering tools for classification, regression, clustering, dimensionality reduction, and more.\n",
    "   - **TensorFlow and PyTorch:** Deep learning frameworks for building and training neural networks.\n",
    "   - **caret:** An R package that provides a consistent interface for various machine learning algorithms and processes.\n",
    "\n",
    "6. **Version Control:**\n",
    "   - **Git:** A distributed version control system commonly used for tracking changes in code and collaborating with team members.\n",
    "   - **GitHub and GitLab:** Online platforms for hosting Git repositories, facilitating collaborative development and sharing of code.\n",
    "\n",
    "7. **SQL Databases:**\n",
    "   - **SQLite, MySQL, PostgreSQL:** Popular relational database management systems used to store and retrieve structured data.\n",
    "\n",
    "8. **Big Data Tools:**\n",
    "   - **Apache Hadoop:** An open-source framework for distributed storage and processing of large datasets.\n",
    "   - **Apache Spark:** A powerful data processing engine that can handle big data processing and analysis.\n",
    "\n",
    "9. **Cloud Platforms:**\n",
    "   - **Amazon Web Services (AWS), Microsoft Azure, Google Cloud Platform:** Cloud computing services that provide scalable infrastructure for data storage, processing, and analysis.\n",
    "\n",
    "10. **Notebook Sharing and Collaboration:**\n",
    "    - **Google Colab:** An online platform that provides Jupyter Notebooks with free access to GPUs, making it useful for machine learning tasks.\n",
    "    - **Kaggle:** A platform for data science competitions and collaboration, offering kernels (notebooks) for data analysis and machine learning.\n",
    "\n",
    "\n"
   ]
  },
  {
   "cell_type": "markdown",
   "id": "4429d2cc",
   "metadata": {},
   "source": [
    "Exercise 7 - Create a markdown cell introducing arithmetic expression examples. (1 pt)"
   ]
  },
  {
   "cell_type": "markdown",
   "id": "11418fca",
   "metadata": {},
   "source": [
    "examples of evaluating arithmetic expressions in Python"
   ]
  },
  {
   "cell_type": "code",
   "execution_count": 4,
   "id": "c2e83667",
   "metadata": {},
   "outputs": [
    {
     "data": {
      "text/plain": [
       "16"
      ]
     },
     "execution_count": 4,
     "metadata": {},
     "output_type": "execute_result"
    }
   ],
   "source": [
    "# Arithmetic operations\n",
    "code = compile(\"20 - 4\", \"<string>\", \"eval\")\n",
    "eval(code)\n",
    "# Result: 16"
   ]
  },
  {
   "cell_type": "code",
   "execution_count": 9,
   "id": "97d95d5b",
   "metadata": {},
   "outputs": [
    {
     "data": {
      "text/plain": [
       "80"
      ]
     },
     "execution_count": 9,
     "metadata": {},
     "output_type": "execute_result"
    }
   ],
   "source": [
    "# Arithmetic operations\n",
    "code1 = compile(\"20 * 4\", \"<string>\", \"eval\")\n",
    "eval(code1)\n",
    "# Result: 80"
   ]
  },
  {
   "cell_type": "code",
   "execution_count": 11,
   "id": "43497355",
   "metadata": {},
   "outputs": [
    {
     "data": {
      "text/plain": [
       "61359.23151542565"
      ]
     },
     "execution_count": 11,
     "metadata": {},
     "output_type": "execute_result"
    }
   ],
   "source": [
    "import math\n",
    "# Volume of a sphere\n",
    "code2 = compile(\"10 / 8 * math.pi * math.pow(25, 3)\", \"<string>\", \"eval\")\n",
    "eval(code2)\n",
    "# Result: 61359.23151542565"
   ]
  },
  {
   "cell_type": "markdown",
   "id": "592999d9",
   "metadata": {},
   "source": [
    "Exercise 8 - Create a code cell to multiply and add numbers.(2 pts)"
   ]
  },
  {
   "cell_type": "code",
   "execution_count": 14,
   "id": "77bc4df1",
   "metadata": {},
   "outputs": [
    {
     "data": {
      "text/plain": [
       "52"
      ]
     },
     "execution_count": 14,
     "metadata": {},
     "output_type": "execute_result"
    }
   ],
   "source": [
    "(5*10)+2\n",
    "\n",
    "#result(52)"
   ]
  },
  {
   "cell_type": "markdown",
   "id": "feb74fa1",
   "metadata": {},
   "source": [
    "Exercise 9 - Create a code cell to convert minutes to hours. (2 pts)"
   ]
  },
  {
   "cell_type": "code",
   "execution_count": 20,
   "id": "fc3dc736",
   "metadata": {},
   "outputs": [
    {
     "data": {
      "text/plain": [
       "1.8333333333333333"
      ]
     },
     "execution_count": 20,
     "metadata": {},
     "output_type": "execute_result"
    }
   ],
   "source": [
    "def min_to_hour(value):\n",
    "    return 1/60*value\n",
    "\n",
    "min_to_hour(110)\n",
    "#result 1.8333333333333333"
   ]
  },
  {
   "cell_type": "markdown",
   "id": "24221bd0",
   "metadata": {},
   "source": [
    "Exercise 10 -Insert a markdown cell to list Objectives. (3 pts)"
   ]
  },
  {
   "cell_type": "markdown",
   "id": "7e1ed4ac",
   "metadata": {},
   "source": [
    "Below the introduction cell created in Exercise 3, insert a new markdown cell to list the objectives that this notebook covered (i.e. some of the key takeaways from the course). In this new cell start with an introductory line titled: Objectives: in bold font. Then using an unordered list (bullets) indicate 3 to 5 items covered in this notebook, such as List popular languages for Data Science."
   ]
  },
  {
   "cell_type": "markdown",
   "id": "e7659640",
   "metadata": {},
   "source": [
    "Exercise 11 - Create a markdown cell to indicate the Author's name. (2 pts)"
   ]
  },
  {
   "cell_type": "code",
   "execution_count": 21,
   "id": "6c553a0a",
   "metadata": {},
   "outputs": [],
   "source": [
    "#Author: SAHATA SIANTURI"
   ]
  },
  {
   "cell_type": "markdown",
   "id": "81f353f1",
   "metadata": {},
   "source": [
    "Exercise 12 - Share your notebook via GitHub (3 pts)\n",
    "\n"
   ]
  },
  {
   "cell_type": "markdown",
   "id": "adda2929",
   "metadata": {},
   "source": [
    "Exercise 13 - Take a screenshot of the first page of the notebook. (1 pt)"
   ]
  }
 ],
 "metadata": {
  "kernelspec": {
   "display_name": "Python 3 (ipykernel)",
   "language": "python",
   "name": "python3"
  },
  "language_info": {
   "codemirror_mode": {
    "name": "ipython",
    "version": 3
   },
   "file_extension": ".py",
   "mimetype": "text/x-python",
   "name": "python",
   "nbconvert_exporter": "python",
   "pygments_lexer": "ipython3",
   "version": "3.9.13"
  },
  "toc": {
   "base_numbering": 1,
   "nav_menu": {},
   "number_sections": true,
   "sideBar": true,
   "skip_h1_title": false,
   "title_cell": "Table of Contents",
   "title_sidebar": "Contents",
   "toc_cell": false,
   "toc_position": {},
   "toc_section_display": true,
   "toc_window_display": false
  },
  "varInspector": {
   "cols": {
    "lenName": 16,
    "lenType": 16,
    "lenVar": 40
   },
   "kernels_config": {
    "python": {
     "delete_cmd_postfix": "",
     "delete_cmd_prefix": "del ",
     "library": "var_list.py",
     "varRefreshCmd": "print(var_dic_list())"
    },
    "r": {
     "delete_cmd_postfix": ") ",
     "delete_cmd_prefix": "rm(",
     "library": "var_list.r",
     "varRefreshCmd": "cat(var_dic_list()) "
    }
   },
   "types_to_exclude": [
    "module",
    "function",
    "builtin_function_or_method",
    "instance",
    "_Feature"
   ],
   "window_display": false
  }
 },
 "nbformat": 4,
 "nbformat_minor": 5
}
